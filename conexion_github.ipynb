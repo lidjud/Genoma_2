{
  "nbformat": 4,
  "nbformat_minor": 0,
  "metadata": {
    "colab": {
      "name": "conexion_github.ipynb",
      "provenance": [],
      "authorship_tag": "ABX9TyMhovJOR3b87WQXotISqlmt",
      "include_colab_link": true
    },
    "kernelspec": {
      "name": "python3",
      "display_name": "Python 3"
    },
    "language_info": {
      "name": "python"
    }
  },
  "cells": [
    {
      "cell_type": "markdown",
      "metadata": {
        "id": "view-in-github",
        "colab_type": "text"
      },
      "source": [
        "<a href=\"https://colab.research.google.com/github/lidjud/Genoma_2/blob/main/conexion_github.ipynb\" target=\"_parent\"><img src=\"https://colab.research.google.com/assets/colab-badge.svg\" alt=\"Open In Colab\"/></a>"
      ]
    },
    {
      "cell_type": "code",
      "execution_count": null,
      "metadata": {
        "colab": {
          "base_uri": "https://localhost:8080/"
        },
        "id": "dNATvhA85LkN",
        "outputId": "4ccce808-e7b6-483c-c407-f5c3b5b999ea"
      },
      "outputs": [
        {
          "output_type": "stream",
          "name": "stdout",
          "text": [
            "  % Total    % Received % Xferd  Average Speed   Time    Time     Time  Current\n",
            "                                 Dload  Upload   Total   Spent    Left  Speed\n",
            "\r  0     0    0     0    0     0      0      0 --:--:-- --:--:-- --:--:--     0\r100  4620  100  4620    0     0  42000      0 --:--:-- --:--:-- --:--:-- 41621\r100  4620  100  4620    0     0  42000      0 --:--:-- --:--:-- --:--:-- 41621\n"
          ]
        }
      ],
      "source": [
        "# Fetch the dataset using the raw GitHub URL.\n",
        "!curl --remote-name \\\n",
        "     -H 'Accept: application/vnd.github.v3.raw' \\\n",
        "     --location https://raw.githubusercontent.com/lidjud/Genoma/main/genoma.txt"
      ]
    },
    {
      "cell_type": "code",
      "source": [
        "with open('genoma.txt') as f: # c:/sample/readme.txt\n",
        "    data = f.readlines()\n",
        "    print(data)"
      ],
      "metadata": {
        "id": "zm3rDvW1CAW5"
      },
      "execution_count": null,
      "outputs": []
    },
    {
      "cell_type": "code",
      "source": [
        "lines = []\n",
        "with open('genoma.txt') as f:\n",
        "    lines = f.readlines()\n",
        "\n",
        "count = 0\n",
        "for line in lines:\n",
        "    count += 1\n",
        "    print(f'línea {count}: {line}')    "
      ],
      "metadata": {
        "id": "FtcEwvvNCm4P"
      },
      "execution_count": null,
      "outputs": []
    },
    {
      "cell_type": "code",
      "source": [
        "lines"
      ],
      "metadata": {
        "id": "tEoaP3g7DRi7"
      },
      "execution_count": null,
      "outputs": []
    },
    {
      "cell_type": "code",
      "source": [
        "with open('genoma.txt') as f:\n",
        "    line = f.readline()\n",
        "    while line:\n",
        "        line = f.readline()\n",
        "        print(line)"
      ],
      "metadata": {
        "id": "jNluUB1NCnZo"
      },
      "execution_count": null,
      "outputs": []
    },
    {
      "cell_type": "code",
      "source": [
        "with open('genoma.txt', encoding='utf8') as f:\n",
        "    for line in f:\n",
        "        print(line.strip())"
      ],
      "metadata": {
        "id": "OlePGAwcDT4_"
      },
      "execution_count": null,
      "outputs": []
    }
  ]
}